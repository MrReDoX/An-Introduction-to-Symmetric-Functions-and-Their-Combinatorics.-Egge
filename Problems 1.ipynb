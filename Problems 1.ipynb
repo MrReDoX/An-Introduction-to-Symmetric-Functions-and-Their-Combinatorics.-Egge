{
 "cells": [
  {
   "cell_type": "markdown",
   "id": "88e6a1df",
   "metadata": {},
   "source": [
    "1.1 Find all permutations $ \\pi \\in S_4 $ for which $ \\pi(f) = f $, where $ f(X_4) = x_1 x_2^2 x_4^4 + x_2^2 x_3^4 x_4 + x_1^4 x_2^2 x_3 $."
   ]
  },
  {
   "cell_type": "code",
   "execution_count": 7,
   "id": "8de9e511",
   "metadata": {},
   "outputs": [
    {
     "data": {
      "text/html": [
       "<html>\\(\\displaystyle \\left[, (1,4,3), (1,3,4)\\right]\\)</html>"
      ],
      "text/latex": [
       "$\\displaystyle \\left[, (1,4,3), (1,3,4)\\right]$"
      ],
      "text/plain": [
       "[(), (1,4,3), (1,3,4)]"
      ]
     },
     "metadata": {},
     "output_type": "display_data"
    }
   ],
   "source": [
    "reset()\n",
    "\n",
    "%display latex\n",
    "\n",
    "# 1.1.Find all permutations π ∈ S4 for which π(f ) = f , where f (X4 ) =\n",
    "R.<x1, x2, x3, x4> = PolynomialRing(ZZ)\n",
    "\n",
    "f = x1 * x2^2 * x4^4 + x2^2 * x3^4 * x4 + x1^4 * x2^2 * x3\n",
    "\n",
    "ans = [tau for tau in SymmetricGroup(4) if f(*tau(R.gens())) == f]\n",
    "\n",
    "# Cycle notation\n",
    "show(ans)"
   ]
  },
  {
   "cell_type": "markdown",
   "id": "d760a10d",
   "metadata": {},
   "source": [
    "1.2 Find all permutations $ \\pi \\in S_4 $ for which $ \\pi(f) = f $, where $ f(X_4) = x_1 x_2 x_3^2 x_4^2 + x_1 x_2^2 x_3 x_4^2 + x_1^2 x_2 x_3^2 x_4 + x_1^2 x_2^2 x_3 x_4 $."
   ]
  },
  {
   "cell_type": "code",
   "execution_count": 8,
   "id": "7256ca4a",
   "metadata": {},
   "outputs": [
    {
     "data": {
      "text/html": [
       "<html>\\(\\displaystyle \\left[, (1,3)(2,4), (1,4)(2,3), (1,2)(3,4), (2,3), (1,3,4,2), (1,4), (1,2,4,3)\\right]\\)</html>"
      ],
      "text/latex": [
       "$\\displaystyle \\left[, (1,3)(2,4), (1,4)(2,3), (1,2)(3,4), (2,3), (1,3,4,2), (1,4), (1,2,4,3)\\right]$"
      ],
      "text/plain": [
       "[(), (1,3)(2,4), (1,4)(2,3), (1,2)(3,4), (2,3), (1,3,4,2), (1,4), (1,2,4,3)]"
      ]
     },
     "metadata": {},
     "output_type": "display_data"
    }
   ],
   "source": [
    "reset()\n",
    "\n",
    "%display latex\n",
    "\n",
    "# 1.2.Find all permutations π ∈ S4 for which π(f ) = f , where f (X4 ) =\n",
    "R.<x1, x2, x3, x4> = PolynomialRing(ZZ)\n",
    "\n",
    "f = x1 * x2 * x3^2 * x4^2 + x1 * x2^2 * x3 * x4^2 + x1^2 * x2 * x3^2 * x4 + x1^2 * x2^2 * x3 * x4\n",
    "\n",
    "ans = [tau for tau in SymmetricGroup(4) if f(*tau(R.gens())) == f]\n",
    "\n",
    "# Cycle notation\n",
    "show(ans)"
   ]
  },
  {
   "cell_type": "markdown",
   "id": "1d0d8c9a",
   "metadata": {},
   "source": [
    "1.3 Find a polynomial $ f $ in $ x_1, x_2, x_3 $ which has $ \\pi(f) = \\mathrm{sgn}(\\pi) f $ for all $ \\pi \\in S_3 $, and which has $ x_1^7 x_3^2 $ as one of its terms."
   ]
  },
  {
   "cell_type": "code",
   "execution_count": 13,
   "id": "8177d2fb",
   "metadata": {},
   "outputs": [
    {
     "data": {
      "text/html": [
       "<html>\\(\\displaystyle -x_{1}^{7} x_{2}^{2} + x_{1}^{2} x_{2}^{7} + x_{1}^{7} x_{3}^{2} - x_{2}^{7} x_{3}^{2} - x_{1}^{2} x_{3}^{7} + x_{2}^{2} x_{3}^{7}\\)</html>"
      ],
      "text/latex": [
       "$\\displaystyle -x_{1}^{7} x_{2}^{2} + x_{1}^{2} x_{2}^{7} + x_{1}^{7} x_{3}^{2} - x_{2}^{7} x_{3}^{2} - x_{1}^{2} x_{3}^{7} + x_{2}^{2} x_{3}^{7}$"
      ],
      "text/plain": [
       "-x1^7*x2^2 + x1^2*x2^7 + x1^7*x3^2 - x2^7*x3^2 - x1^2*x3^7 + x2^2*x3^7"
      ]
     },
     "metadata": {},
     "output_type": "display_data"
    },
    {
     "name": "stdout",
     "output_type": "stream",
     "text": [
      "is pi(f) == sgn(pi)f for every permutation? True\n"
     ]
    }
   ],
   "source": [
    "reset()\n",
    "\n",
    "%display latex\n",
    "\n",
    "# 1.3. Find a polynomial f in x1 , x2 , x3 which has π(f ) = sgn(π)f for\n",
    "\n",
    "# Idea: let us just take Alt* of x_1^7 x_3^2\n",
    "\n",
    "def AltStar(R, f, Sn):\n",
    "    alt = { tau.sign() * f(*tau(R.gens())) for tau in Sn }\n",
    "    \n",
    "    return sum(alt)\n",
    "\n",
    "R.<x1, x2, x3> = PolynomialRing(ZZ)\n",
    "\n",
    "f = AltStar(R, x1^7 * x3^2, SymmetricGroup(3))\n",
    "\n",
    "show(AltStar(R, x1^7 * x3^2, SymmetricGroup(3)))\n",
    "\n",
    "conds = [tau.sign() * f == f(*tau(R.gens())) for tau in SymmetricGroup(3)]\n",
    "\n",
    "print(f'is pi(f) == sgn(pi)f for every permutation? {all(conds)}')"
   ]
  }
 ],
 "metadata": {
  "kernelspec": {
   "display_name": "SageMath 10.0",
   "language": "sage",
   "name": "sagemath"
  },
  "language_info": {
   "codemirror_mode": {
    "name": "ipython",
    "version": 3
   },
   "file_extension": ".py",
   "mimetype": "text/x-python",
   "name": "python",
   "nbconvert_exporter": "python",
   "pygments_lexer": "ipython3",
   "version": "3.11.3"
  }
 },
 "nbformat": 4,
 "nbformat_minor": 5
}

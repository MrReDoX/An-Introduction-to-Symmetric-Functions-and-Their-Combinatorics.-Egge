{
 "cells": [
  {
   "cell_type": "code",
   "execution_count": 109,
   "id": "0347e085",
   "metadata": {},
   "outputs": [
    {
     "name": "stdout",
     "output_type": "stream",
     "text": [
      "Defining z, x1, x2, x3, x4\n",
      "k = 0\n"
     ]
    },
    {
     "data": {
      "text/html": [
       "<html>\\(\\displaystyle x_{1} x_{2} x_{3} x_{4}\\)</html>"
      ],
      "text/latex": [
       "$\\displaystyle x_{1} x_{2} x_{3} x_{4}$"
      ],
      "text/plain": [
       "x1*x2*x3*x4"
      ]
     },
     "metadata": {},
     "output_type": "display_data"
    },
    {
     "name": "stdout",
     "output_type": "stream",
     "text": [
      "\n",
      "k = 1\n"
     ]
    },
    {
     "data": {
      "text/html": [
       "<html>\\(\\displaystyle -x_{1} x_{2} x_{3} - x_{1} x_{2} x_{4} - x_{1} x_{3} x_{4} - x_{2} x_{3} x_{4}\\)</html>"
      ],
      "text/latex": [
       "$\\displaystyle -x_{1} x_{2} x_{3} - x_{1} x_{2} x_{4} - x_{1} x_{3} x_{4} - x_{2} x_{3} x_{4}$"
      ],
      "text/plain": [
       "-x1*x2*x3 - x1*x2*x4 - x1*x3*x4 - x2*x3*x4"
      ]
     },
     "metadata": {},
     "output_type": "display_data"
    },
    {
     "name": "stdout",
     "output_type": "stream",
     "text": [
      "\n",
      "k = 2\n"
     ]
    },
    {
     "data": {
      "text/html": [
       "<html>\\(\\displaystyle x_{1} x_{2} + x_{1} x_{3} + x_{2} x_{3} + x_{1} x_{4} + x_{2} x_{4} + x_{3} x_{4}\\)</html>"
      ],
      "text/latex": [
       "$\\displaystyle x_{1} x_{2} + x_{1} x_{3} + x_{2} x_{3} + x_{1} x_{4} + x_{2} x_{4} + x_{3} x_{4}$"
      ],
      "text/plain": [
       "x1*x2 + x1*x3 + x2*x3 + x1*x4 + x2*x4 + x3*x4"
      ]
     },
     "metadata": {},
     "output_type": "display_data"
    },
    {
     "name": "stdout",
     "output_type": "stream",
     "text": [
      "\n",
      "k = 3\n"
     ]
    },
    {
     "data": {
      "text/html": [
       "<html>\\(\\displaystyle -x_{1} - x_{2} - x_{3} - x_{4}\\)</html>"
      ],
      "text/latex": [
       "$\\displaystyle -x_{1} - x_{2} - x_{3} - x_{4}$"
      ],
      "text/plain": [
       "-x1 - x2 - x3 - x4"
      ]
     },
     "metadata": {},
     "output_type": "display_data"
    },
    {
     "name": "stdout",
     "output_type": "stream",
     "text": [
      "\n"
     ]
    }
   ],
   "source": [
    "reset()\n",
    "\n",
    "%display latex\n",
    "\n",
    "# p. 24\n",
    "# Example 2.1. For 0 ≤ k ≤ 3, compute the coefficients of z k in the\n",
    "\n",
    "R = ZZ['z', 'x1', 'x2', 'x3', 'x4']\n",
    "R.inject_variables()\n",
    "\n",
    "f = (z - x1) * (z - x2) * (z - x3) * (z - x4)\n",
    "\n",
    "for k in range(f.degree(z)):\n",
    "    print(f'k = {k}')\n",
    "    show(f.coefficient({z:k}))\n",
    "    print()"
   ]
  },
  {
   "cell_type": "markdown",
   "id": "3d03ea8b",
   "metadata": {},
   "source": [
    "p.31. Example 2.9. Write the partitions of 6 in lexicographic order, from largest to smallest."
   ]
  },
  {
   "cell_type": "code",
   "execution_count": 11,
   "id": "bb05ec9e",
   "metadata": {},
   "outputs": [
    {
     "name": "stdout",
     "output_type": "stream",
     "text": [
      "[6]\n",
      "[5, 1]\n",
      "[4, 2]\n",
      "[4, 1, 1]\n",
      "[3, 3]\n",
      "[3, 2, 1]\n",
      "[3, 1, 1, 1]\n",
      "[2, 2, 2]\n",
      "[2, 2, 1, 1]\n",
      "[2, 1, 1, 1, 1]\n",
      "[1, 1, 1, 1, 1, 1]\n"
     ]
    }
   ],
   "source": [
    "reset()\n",
    "\n",
    "%display latex\n",
    "\n",
    "ans = Partitions(6).list()\n",
    "\n",
    "print(*sorted(ans, reverse=True), sep='\\n')"
   ]
  }
 ],
 "metadata": {
  "kernelspec": {
   "display_name": "SageMath 10.0",
   "language": "sage",
   "name": "sagemath"
  },
  "language_info": {
   "codemirror_mode": {
    "name": "ipython",
    "version": 3
   },
   "file_extension": ".py",
   "mimetype": "text/x-python",
   "name": "python",
   "nbconvert_exporter": "python",
   "pygments_lexer": "ipython3",
   "version": "3.11.3"
  }
 },
 "nbformat": 4,
 "nbformat_minor": 5
}

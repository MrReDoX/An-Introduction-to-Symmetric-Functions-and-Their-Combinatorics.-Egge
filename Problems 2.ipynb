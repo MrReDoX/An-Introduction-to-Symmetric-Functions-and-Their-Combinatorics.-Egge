{
 "cells": [
  {
   "cell_type": "markdown",
   "id": "c68e08b1-4d65-4e3b-8ee4-d5dc1b77c603",
   "metadata": {},
   "source": [
    " ## p. 49, 2.1. Compute $ M_{\\lambda, \\mu}(e, m) $ for $ \\lambda = (2^2, 1^4) $ and $ \\mu = (3^2, 1^2) $."
   ]
  },
  {
   "cell_type": "code",
   "execution_count": 13,
   "id": "f6410f5f-23e1-4398-926f-6c36678853a6",
   "metadata": {},
   "outputs": [
    {
     "name": "stdout",
     "output_type": "stream",
     "text": [
      "Answer: 172\n",
      "Decomposition: 10080*m[1, 1, 1, 1, 1, 1, 1, 1] + 4680*m[2, 1, 1, 1, 1, 1, 1] + 2172*m[2, 2, 1, 1, 1, 1] + 1008*m[2, 2, 2, 1, 1] + 468*m[2, 2, 2, 2] + 1320*m[3, 1, 1, 1, 1, 1] + 612*m[3, 2, 1, 1, 1] + 284*m[3, 2, 2, 1] + 172*m[3, 3, 1, 1] + 80*m[3, 3, 2] + 246*m[4, 1, 1, 1, 1] + 114*m[4, 2, 1, 1] + 53*m[4, 2, 2] + 32*m[4, 3, 1] + 6*m[4, 4] + 30*m[5, 1, 1, 1] + 14*m[5, 2, 1] + 4*m[5, 3] + 2*m[6, 1, 1] + m[6, 2]\n"
     ]
    }
   ],
   "source": [
    "reset()\n",
    "\n",
    "%display latex\n",
    "\n",
    "# https://doc.sagemath.org/html/en/reference/combinat/sage/combinat/sf/sf.html\n",
    "\n",
    "Sym = SymmetricFunctions(QQ)\n",
    "\n",
    "e = Sym.elementary()\n",
    "h = Sym.homogeneous()\n",
    "m = Sym.monomial()\n",
    "s = Sym.schur()\n",
    "\n",
    "decomposition = m(e[2, 2, 1, 1, 1, 1])\n",
    "\n",
    "print(f'Answer: {decomposition.coefficient([3, 3, 1, 1])}')\n",
    "print(f'Decomposition: {decomposition}')"
   ]
  },
  {
   "cell_type": "markdown",
   "id": "d27dc9cd-e91f-4c12-b2c4-91e6dd47bf4a",
   "metadata": {},
   "source": [
    " ## p. 49, 2.2. Find and prove a formula for $ M_{\\lambda, 1^n} (e, m) $, where $ \\lambda \\vdash n $"
   ]
  },
  {
   "cell_type": "code",
   "execution_count": 17,
   "id": "6fb02c4b-5190-4e25-81c1-7918c4733111",
   "metadata": {
    "collapsed": true,
    "jupyter": {
     "outputs_hidden": true
    }
   },
   "outputs": [
    {
     "name": "stdout",
     "output_type": "stream",
     "text": [
      "n = 1\n",
      "[1]: 1\n",
      "\n",
      "n = 2\n",
      "[2]: 1\n",
      "[1, 1]: 2\n",
      "\n",
      "n = 3\n",
      "[3]: 1\n",
      "[2, 1]: 3\n",
      "[1, 1, 1]: 6\n",
      "\n",
      "n = 4\n",
      "[4]: 1\n",
      "[3, 1]: 4\n",
      "[2, 2]: 6\n",
      "[2, 1, 1]: 12\n",
      "[1, 1, 1, 1]: 24\n",
      "\n",
      "n = 5\n",
      "[5]: 1\n",
      "[4, 1]: 5\n",
      "[3, 2]: 10\n",
      "[3, 1, 1]: 20\n",
      "[2, 2, 1]: 30\n",
      "[2, 1, 1, 1]: 60\n",
      "[1, 1, 1, 1, 1]: 120\n",
      "\n",
      "n = 6\n",
      "[6]: 1\n",
      "[5, 1]: 6\n",
      "[4, 2]: 15\n",
      "[4, 1, 1]: 30\n",
      "[3, 3]: 20\n",
      "[3, 2, 1]: 60\n",
      "[3, 1, 1, 1]: 120\n",
      "[2, 2, 2]: 90\n",
      "[2, 2, 1, 1]: 180\n",
      "[2, 1, 1, 1, 1]: 360\n",
      "[1, 1, 1, 1, 1, 1]: 720\n",
      "\n",
      "n = 7\n",
      "[7]: 1\n",
      "[6, 1]: 7\n",
      "[5, 2]: 21\n",
      "[5, 1, 1]: 42\n",
      "[4, 3]: 35\n",
      "[4, 2, 1]: 105\n",
      "[4, 1, 1, 1]: 210\n",
      "[3, 3, 1]: 140\n",
      "[3, 2, 2]: 210\n",
      "[3, 2, 1, 1]: 420\n",
      "[3, 1, 1, 1, 1]: 840\n",
      "[2, 2, 2, 1]: 630\n",
      "[2, 2, 1, 1, 1]: 1260\n",
      "[2, 1, 1, 1, 1, 1]: 2520\n",
      "[1, 1, 1, 1, 1, 1, 1]: 5040\n",
      "\n",
      "n = 8\n",
      "[8]: 1\n",
      "[7, 1]: 8\n",
      "[6, 2]: 28\n",
      "[6, 1, 1]: 56\n",
      "[5, 3]: 56\n",
      "[5, 2, 1]: 168\n",
      "[5, 1, 1, 1]: 336\n",
      "[4, 4]: 70\n",
      "[4, 3, 1]: 280\n",
      "[4, 2, 2]: 420\n",
      "[4, 2, 1, 1]: 840\n",
      "[4, 1, 1, 1, 1]: 1680\n",
      "[3, 3, 2]: 560\n",
      "[3, 3, 1, 1]: 1120\n",
      "[3, 2, 2, 1]: 1680\n",
      "[3, 2, 1, 1, 1]: 3360\n",
      "[3, 1, 1, 1, 1, 1]: 6720\n",
      "[2, 2, 2, 2]: 2520\n",
      "[2, 2, 2, 1, 1]: 5040\n",
      "[2, 2, 1, 1, 1, 1]: 10080\n",
      "[2, 1, 1, 1, 1, 1, 1]: 20160\n",
      "[1, 1, 1, 1, 1, 1, 1, 1]: 40320\n",
      "\n",
      "n = 9\n",
      "[9]: 1\n",
      "[8, 1]: 9\n",
      "[7, 2]: 36\n",
      "[7, 1, 1]: 72\n",
      "[6, 3]: 84\n",
      "[6, 2, 1]: 252\n",
      "[6, 1, 1, 1]: 504\n",
      "[5, 4]: 126\n",
      "[5, 3, 1]: 504\n",
      "[5, 2, 2]: 756\n",
      "[5, 2, 1, 1]: 1512\n",
      "[5, 1, 1, 1, 1]: 3024\n",
      "[4, 4, 1]: 630\n",
      "[4, 3, 2]: 1260\n",
      "[4, 3, 1, 1]: 2520\n",
      "[4, 2, 2, 1]: 3780\n",
      "[4, 2, 1, 1, 1]: 7560\n",
      "[4, 1, 1, 1, 1, 1]: 15120\n",
      "[3, 3, 3]: 1680\n",
      "[3, 3, 2, 1]: 5040\n",
      "[3, 3, 1, 1, 1]: 10080\n",
      "[3, 2, 2, 2]: 7560\n",
      "[3, 2, 2, 1, 1]: 15120\n",
      "[3, 2, 1, 1, 1, 1]: 30240\n",
      "[3, 1, 1, 1, 1, 1, 1]: 60480\n",
      "[2, 2, 2, 2, 1]: 22680\n",
      "[2, 2, 2, 1, 1, 1]: 45360\n",
      "[2, 2, 1, 1, 1, 1, 1]: 90720\n",
      "[2, 1, 1, 1, 1, 1, 1, 1]: 181440\n",
      "[1, 1, 1, 1, 1, 1, 1, 1, 1]: 362880\n",
      "\n"
     ]
    }
   ],
   "source": [
    "# have no idea what the formula is\n",
    "\n",
    "reset()\n",
    "\n",
    "%display latex\n",
    "\n",
    "Sym = SymmetricFunctions(QQ)\n",
    "\n",
    "e = Sym.elementary()\n",
    "m = Sym.monomial()\n",
    "\n",
    "for n in range(1, 10):\n",
    "    print(f'n = {n}')\n",
    "    #print(f'{m(e[Partition([1] * n)])}\\n')\n",
    "    \n",
    "    for lamb in Partitions(n):\n",
    "        print(f'{lamb}: {m(e[lamb]).coefficient([1]*n)}')\n",
    "\n",
    "    print()"
   ]
  },
  {
   "cell_type": "markdown",
   "id": "bad19307-8646-45f4-a9b3-4c22e327ac87",
   "metadata": {},
   "source": [
    " ## p. 49, 2.3. Find and prove a formula for $ M_{\\lambda, n} (e, m) $, where $ \\lambda \\vdash n $."
   ]
  },
  {
   "cell_type": "code",
   "execution_count": 16,
   "id": "9b6b31c7-1f0f-4192-9a86-2933c0376be7",
   "metadata": {
    "collapsed": true,
    "jupyter": {
     "outputs_hidden": true
    }
   },
   "outputs": [
    {
     "name": "stdout",
     "output_type": "stream",
     "text": [
      "n = 1\n",
      "[1]: 1\n",
      "\n",
      "n = 2\n",
      "[2]: 0\n",
      "[1, 1]: 1\n",
      "\n",
      "n = 3\n",
      "[3]: 0\n",
      "[2, 1]: 0\n",
      "[1, 1, 1]: 1\n",
      "\n",
      "n = 4\n",
      "[4]: 0\n",
      "[3, 1]: 0\n",
      "[2, 2]: 0\n",
      "[2, 1, 1]: 0\n",
      "[1, 1, 1, 1]: 1\n",
      "\n",
      "n = 5\n",
      "[5]: 0\n",
      "[4, 1]: 0\n",
      "[3, 2]: 0\n",
      "[3, 1, 1]: 0\n",
      "[2, 2, 1]: 0\n",
      "[2, 1, 1, 1]: 0\n",
      "[1, 1, 1, 1, 1]: 1\n",
      "\n"
     ]
    }
   ],
   "source": [
    "reset()\n",
    "\n",
    "%display latex\n",
    "\n",
    "Sym = SymmetricFunctions(QQ)\n",
    "\n",
    "e = Sym.elementary()\n",
    "m = Sym.monomial()\n",
    "\n",
    "for n in range(1, 6):\n",
    "    print(f'n = {n}')\n",
    "    #print(f'{m(e[Partition([1] * n)])}\\n')\n",
    "    \n",
    "    for lamb in Partitions(n):\n",
    "        print(f'{lamb}: {m(e[lamb]).coefficient([n])}')\n",
    "\n",
    "    print()"
   ]
  },
  {
   "cell_type": "markdown",
   "id": "7efa4bd6-d731-4466-9852-435210724c28",
   "metadata": {},
   "source": [
    " ## p. 49, 2.4. Find and prove a formula for $ M_{\\lambda, \\mu} (e, m) $, where $ \\lambda \\vdash n $ and $ \\mu = (n - 1, 1) $."
   ]
  },
  {
   "cell_type": "code",
   "execution_count": 15,
   "id": "5663df5f-e11f-4acb-a0f7-459a2eab2e49",
   "metadata": {
    "collapsed": true,
    "jupyter": {
     "outputs_hidden": true
    }
   },
   "outputs": [
    {
     "name": "stdout",
     "output_type": "stream",
     "text": [
      "n = 2\n",
      "[2]: 1\n",
      "[1, 1]: 2\n",
      "\n",
      "n = 3\n",
      "[3]: 0\n",
      "[2, 1]: 1\n",
      "[1, 1, 1]: 3\n",
      "\n",
      "n = 4\n",
      "[4]: 0\n",
      "[3, 1]: 0\n",
      "[2, 2]: 0\n",
      "[2, 1, 1]: 1\n",
      "[1, 1, 1, 1]: 4\n",
      "\n",
      "n = 5\n",
      "[5]: 0\n",
      "[4, 1]: 0\n",
      "[3, 2]: 0\n",
      "[3, 1, 1]: 0\n",
      "[2, 2, 1]: 0\n",
      "[2, 1, 1, 1]: 1\n",
      "[1, 1, 1, 1, 1]: 5\n",
      "\n",
      "n = 6\n",
      "[6]: 0\n",
      "[5, 1]: 0\n",
      "[4, 2]: 0\n",
      "[4, 1, 1]: 0\n",
      "[3, 3]: 0\n",
      "[3, 2, 1]: 0\n",
      "[3, 1, 1, 1]: 0\n",
      "[2, 2, 2]: 0\n",
      "[2, 2, 1, 1]: 0\n",
      "[2, 1, 1, 1, 1]: 1\n",
      "[1, 1, 1, 1, 1, 1]: 6\n",
      "\n"
     ]
    }
   ],
   "source": [
    "reset()\n",
    "\n",
    "%display latex\n",
    "\n",
    "Sym = SymmetricFunctions(QQ)\n",
    "\n",
    "e = Sym.elementary()\n",
    "m = Sym.monomial()\n",
    "\n",
    "for n in range(2, 7):\n",
    "    print(f'n = {n}')\n",
    "    #print(f'{m(e[Partition([1] * n)])}\\n')\n",
    "    \n",
    "    for lamb in Partitions(n):\n",
    "        print(f'{lamb}: {m(e[lamb]).coefficient([n - 1, 1])}')\n",
    "\n",
    "    print()"
   ]
  },
  {
   "cell_type": "markdown",
   "id": "f5969fae-6dab-48b7-b954-ead539eab6b4",
   "metadata": {},
   "source": [
    " ## p. 49, 2.7. Prove or disprove: if $ \\lambda $ and $ \\mu $ are partitions with $ |\\lambda| = |\\mu| $ and $ \\lambda > \\mu $, then $ \\mu' > \\lambda' $."
   ]
  },
  {
   "cell_type": "code",
   "execution_count": 14,
   "id": "e6f94bd3-8658-443c-bf95-86246e449cc5",
   "metadata": {},
   "outputs": [
    {
     "name": "stdout",
     "output_type": "stream",
     "text": [
      "BAD\n",
      "[4, 1, 1], [3, 3]\n",
      "BAD\n",
      "[3, 1, 1, 1], [2, 2, 2]\n"
     ]
    }
   ],
   "source": [
    "# Try to construct the counterexample.\n",
    "\n",
    "reset()\n",
    "\n",
    "%display latex\n",
    "\n",
    "import itertools\n",
    "\n",
    "for lamb, mu in itertools.product(Partitions(6), repeat=2):\n",
    "    if lamb > mu and not (mu.conjugate() > lamb.conjugate()):\n",
    "        print(f'BAD\\n{lamb}, {mu}')"
   ]
  },
  {
   "cell_type": "markdown",
   "id": "454113f2-4ed1-4ef7-b0de-b64c73ac7d60",
   "metadata": {},
   "source": [
    " ## p. 49, 2.8. Show that the converse of Proposition 2.10 (i) is false. In particular, find partitions $ \\lambda $ and $ \\mu $ with $ |\\lambda| = |\\mu| $ for which $ M_{\\lambda, \\mu} (e, m) = 0 $ even though $ \\lambda' >_{lex} \\mu $"
   ]
  },
  {
   "cell_type": "code",
   "execution_count": 13,
   "id": "61ef0413-a68a-4f29-bb94-e8b305da9fa7",
   "metadata": {
    "collapsed": true,
    "jupyter": {
     "outputs_hidden": true
    }
   },
   "outputs": [
    {
     "name": "stdout",
     "output_type": "stream",
     "text": [
      "[4, 1, 1], [2, 2, 2]\n",
      "[3, 1, 1, 1] > [2, 2, 2] but M_{\\lambda, \\mu} = 0\n",
      "\n",
      "[3, 1, 1, 1], [3, 3]\n",
      "[4, 1, 1] > [3, 3] but M_{\\lambda, \\mu} = 0\n",
      "\n"
     ]
    }
   ],
   "source": [
    "reset()\n",
    "\n",
    "%display latex\n",
    "\n",
    "import itertools\n",
    "\n",
    "Sym = SymmetricFunctions(QQ)\n",
    "\n",
    "e = Sym.elementary()\n",
    "m = Sym.monomial()\n",
    "\n",
    "for lamb, mu in itertools.product(Partitions(6), repeat=2):\n",
    "    if lamb.conjugate() <= mu:\n",
    "        continue\n",
    "\n",
    "    coeff = m(e[lamb]).coefficient(mu)\n",
    "\n",
    "    if coeff == 0:\n",
    "        print(f'{lamb}, {mu}')\n",
    "        print(f'{lamb.conjugate()} > {mu} but M_{{\\\\lambda, \\\\mu}} = {coeff}\\n')"
   ]
  },
  {
   "cell_type": "markdown",
   "id": "cd26b88a-35ad-4cb4-96aa-2af66e19f5d4",
   "metadata": {},
   "source": [
    " ## p. 49, 2.11. For each $ n \\geqslant 6 $, find partitions $ \\lambda \\vdash n $ and $ \\mu \\vdash n $ for which neither $ \\lambda \\trianglelefteq \\mu $ nor $ \\mu \\trianglelefteq \\lambda $"
   ]
  },
  {
   "cell_type": "code",
   "execution_count": 71,
   "id": "fa322f9e-a8e0-4e40-9a4a-8f5506a243a7",
   "metadata": {},
   "outputs": [
    {
     "name": "stdout",
     "output_type": "stream",
     "text": [
      "n = 6: [4, 1, 1], [3, 3]\n",
      "n = 7: [5, 1, 1], [4, 3]\n",
      "n = 8: [6, 1, 1], [5, 3]\n",
      "n = 9: [7, 1, 1], [6, 3]\n",
      "n = 10: [8, 1, 1], [7, 3]\n",
      "n = 11: [9, 1, 1], [8, 3]\n"
     ]
    }
   ],
   "source": [
    "from enum import Enum\n",
    "import itertools\n",
    "\n",
    "class Comp(Enum):\n",
    "    LQ = 1\n",
    "    GT = 2\n",
    "\n",
    "# \\lamba <= \\mu\n",
    "def dom(mu, lamb) -> Comp:\n",
    "    s1 = 0\n",
    "    s2 = 0\n",
    "\n",
    "    for i in range(max(len(lamb), len(mu))):\n",
    "        s1 += 0 if i >= len(lamb) else lamb[i]\n",
    "        s2 += 0 if i >= len(mu) else mu[i]\n",
    "\n",
    "        if s1 < s2:\n",
    "            return Comp.GT\n",
    "\n",
    "    return Comp.LQ\n",
    "\n",
    "for n in range(6, 12):\n",
    "    for lamb, mu in itertools.product(Partitions(n), repeat=2):\n",
    "        if dom(lamb, mu) != Comp.LQ and dom(mu, lamb) != Comp.LQ:\n",
    "            print(f'n = {n}: {lamb}, {mu}')\n",
    "            \n",
    "            break\n",
    "\n",
    "# => (n - 2, 1, 1) and (n - 3, 3)"
   ]
  }
 ],
 "metadata": {
  "kernelspec": {
   "display_name": "SageMath 10.0",
   "language": "sage",
   "name": "sagemath"
  },
  "language_info": {
   "codemirror_mode": {
    "name": "ipython",
    "version": 3
   },
   "file_extension": ".py",
   "mimetype": "text/x-python",
   "name": "python",
   "nbconvert_exporter": "python",
   "pygments_lexer": "ipython3",
   "version": "3.11.3"
  }
 },
 "nbformat": 4,
 "nbformat_minor": 5
}

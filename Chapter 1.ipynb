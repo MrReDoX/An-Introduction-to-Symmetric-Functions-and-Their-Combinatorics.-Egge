{
 "cells": [
  {
   "cell_type": "code",
   "execution_count": null,
   "id": "dab7b040",
   "metadata": {},
   "outputs": [],
   "source": [
    "%display latex\n",
    "\n",
    "# p. 2\n",
    "# Example 1.1. Suppose that in one-line notation we have π = 2413 \n",
    "\n",
    "R.<x1, x2, x3, x4> = PolynomialRing(ZZ)\n",
    "\n",
    "Sn = SymmetricGroup(4)\n",
    "\n",
    "pi = PermutationGroupElement([2, 4, 1, 3])\n",
    "sigma = PermutationGroupElement([4, 3, 1, 2])\n",
    "\n",
    "f = x1^2 + 3 * x2 * x4 - 2 * x3^2 * x4\n",
    "g = 3 * x3 * x4^2\n",
    "\n",
    "xpi = pi(R.gens())\n",
    "xsigma = sigma(R.gens())\n",
    "\n",
    "show(f(*xpi))\n",
    "show(g(*xpi))\n",
    "show((f + g)(*xpi))\n",
    "show(f(*xpi) + g(*xpi))\n",
    "show((f*g)(*xpi))\n",
    "show(f(*xpi) * g(*xpi))\n",
    "show(f(*xsigma))\n",
    "show(f(*pi(sigma(R.gens()))))\n",
    "show(f(*(pi * sigma)(R.gens())))"
   ]
  },
  {
   "cell_type": "code",
   "execution_count": 4,
   "id": "cb51e6b8",
   "metadata": {},
   "outputs": [
    {
     "data": {
      "text/html": [
       "<html>\\(\\displaystyle \\left[, (1,2)\\right]\\)</html>"
      ],
      "text/latex": [
       "$\\displaystyle \\left[, (1,2)\\right]$"
      ],
      "text/plain": [
       "[(), (1,2)]"
      ]
     },
     "metadata": {},
     "output_type": "display_data"
    }
   ],
   "source": [
    "%display latex\n",
    "\n",
    "# p. 5\n",
    "# Example 1.3. Find all permutations σ ∈ S3 which fix\n",
    "\n",
    "R.<x1, x2, x3> = PolynomialRing(ZZ)\n",
    "\n",
    "Sn = SymmetricGroup(3)\n",
    "\n",
    "f = x1 * x2^2 * x3 + x1^2 * x2 * x3\n",
    "\n",
    "ans = [tau for tau in Sn if f(*tau(R.gens())) == f]\n",
    "show(ans)"
   ]
  },
  {
   "cell_type": "code",
   "execution_count": 14,
   "id": "7189df50",
   "metadata": {},
   "outputs": [
    {
     "data": {
      "text/html": [
       "<html>\\(\\displaystyle \\verb|Symmetric|\\verb| |\\verb|3*x1*x2*x3|\\verb| |\\verb|+|\\verb| |\\verb|x1*x2|\\verb| |\\verb|+|\\verb| |\\verb|x1*x3|\\verb| |\\verb|+|\\verb| |\\verb|x2*x3|\\verb| |\\verb|+|\\verb| |\\verb|5,|\\verb| |\\verb|S_3:|\\verb| |\\verb|True|\\)</html>"
      ],
      "text/latex": [
       "$\\displaystyle \\verb|Symmetric|\\verb| |\\verb|3*x1*x2*x3|\\verb| |\\verb|+|\\verb| |\\verb|x1*x2|\\verb| |\\verb|+|\\verb| |\\verb|x1*x3|\\verb| |\\verb|+|\\verb| |\\verb|x2*x3|\\verb| |\\verb|+|\\verb| |\\verb|5,|\\verb| |\\verb|S_3:|\\verb| |\\verb|True|$"
      ],
      "text/plain": [
       "'Symmetric 3*x1*x2*x3 + x1*x2 + x1*x3 + x2*x3 + 5, S_3: True'"
      ]
     },
     "metadata": {},
     "output_type": "display_data"
    },
    {
     "data": {
      "text/html": [
       "<html>\\(\\displaystyle \\verb|Symmetric|\\verb| |\\verb|x1^2*x2|\\verb| |\\verb|+|\\verb| |\\verb|x2^2*x3|\\verb| |\\verb|+|\\verb| |\\verb|x1*x3^2,|\\verb| |\\verb|S_3:|\\verb| |\\verb|False|\\)</html>"
      ],
      "text/latex": [
       "$\\displaystyle \\verb|Symmetric|\\verb| |\\verb|x1^2*x2|\\verb| |\\verb|+|\\verb| |\\verb|x2^2*x3|\\verb| |\\verb|+|\\verb| |\\verb|x1*x3^2,|\\verb| |\\verb|S_3:|\\verb| |\\verb|False|$"
      ],
      "text/plain": [
       "'Symmetric x1^2*x2 + x2^2*x3 + x1*x3^2, S_3: False'"
      ]
     },
     "metadata": {},
     "output_type": "display_data"
    },
    {
     "data": {
      "text/html": [
       "<html>\\(\\displaystyle \\verb|Symmetric|\\verb| |\\verb|3*x1*x2*x3|\\verb| |\\verb|+|\\verb| |\\verb|x1*x2|\\verb| |\\verb|+|\\verb| |\\verb|x1*x3|\\verb| |\\verb|+|\\verb| |\\verb|x2*x3|\\verb| |\\verb|+|\\verb| |\\verb|5,|\\verb| |\\verb|S_4:|\\verb| |\\verb|False|\\)</html>"
      ],
      "text/latex": [
       "$\\displaystyle \\verb|Symmetric|\\verb| |\\verb|3*x1*x2*x3|\\verb| |\\verb|+|\\verb| |\\verb|x1*x2|\\verb| |\\verb|+|\\verb| |\\verb|x1*x3|\\verb| |\\verb|+|\\verb| |\\verb|x2*x3|\\verb| |\\verb|+|\\verb| |\\verb|5,|\\verb| |\\verb|S_4:|\\verb| |\\verb|False|$"
      ],
      "text/plain": [
       "'Symmetric 3*x1*x2*x3 + x1*x2 + x1*x3 + x2*x3 + 5, S_4: False'"
      ]
     },
     "metadata": {},
     "output_type": "display_data"
    },
    {
     "data": {
      "text/html": [
       "<html>\\(\\displaystyle \\verb|Symmetric|\\verb| |\\verb|x1^2*x2|\\verb| |\\verb|+|\\verb| |\\verb|x2^2*x3|\\verb| |\\verb|+|\\verb| |\\verb|x1*x3^2,|\\verb| |\\verb|S_4:|\\verb| |\\verb|False|\\)</html>"
      ],
      "text/latex": [
       "$\\displaystyle \\verb|Symmetric|\\verb| |\\verb|x1^2*x2|\\verb| |\\verb|+|\\verb| |\\verb|x2^2*x3|\\verb| |\\verb|+|\\verb| |\\verb|x1*x3^2,|\\verb| |\\verb|S_4:|\\verb| |\\verb|False|$"
      ],
      "text/plain": [
       "'Symmetric x1^2*x2 + x2^2*x3 + x1*x3^2, S_4: False'"
      ]
     },
     "metadata": {},
     "output_type": "display_data"
    }
   ],
   "source": [
    "%display latex\n",
    "\n",
    "# p. 6\n",
    "# Example 1.5. Which of the following are symmetric polynomials in \n",
    "\n",
    "def is_symmetric(R, f, Sn) -> bool:\n",
    "    for tau in Sn:\n",
    "        if f(*tau(R.gens())) != f:\n",
    "            return False\n",
    "    \n",
    "    return True\n",
    "\n",
    "R.<x1, x2, x3> = PolynomialRing(ZZ)\n",
    "\n",
    "f = 3*x1*x2*x3 + x1*x2 + x2*x3 + x1*x3 + 5\n",
    "g = x1^2 * x2 + x2^2 * x3 + x1 * x3^2\n",
    "\n",
    "show(f'Symmetric {f}, S_3: {is_symmetric(R, f, SymmetricGroup(3))}')\n",
    "show(f'Symmetric {g}, S_3: {is_symmetric(R, g, SymmetricGroup(3))}')\n",
    "\n",
    "R.<x1, x2, x3, x4> = PolynomialRing(ZZ)\n",
    "\n",
    "f = 3*x1*x2*x3 + x1*x2 + x2*x3 + x1*x3 + 5\n",
    "g = x1^2 * x2 + x2^2 * x3 + x1 * x3^2\n",
    "\n",
    "show(f'Symmetric {f}, S_4: {is_symmetric(R, f, SymmetricGroup(4))}')\n",
    "show(f'Symmetric {g}, S_4: {is_symmetric(R, g, SymmetricGroup(4))}')"
   ]
  },
  {
   "cell_type": "code",
   "execution_count": 8,
   "id": "4163abee",
   "metadata": {},
   "outputs": [
    {
     "data": {
      "text/html": [
       "<html>\\(\\displaystyle \\verb|Symmetric|\\verb| |\\verb|3*x1*x2*x3|\\verb| |\\verb|+|\\verb| |\\verb|x1*x2|\\verb| |\\verb|+|\\verb| |\\verb|x1*x3|\\verb| |\\verb|+|\\verb| |\\verb|x2*x3|\\verb| |\\verb|+|\\verb| |\\verb|5,|\\verb| |\\verb|S_3:|\\verb| |\\verb|True|\\)</html>"
      ],
      "text/latex": [
       "$\\displaystyle \\verb|Symmetric|\\verb| |\\verb|3*x1*x2*x3|\\verb| |\\verb|+|\\verb| |\\verb|x1*x2|\\verb| |\\verb|+|\\verb| |\\verb|x1*x3|\\verb| |\\verb|+|\\verb| |\\verb|x2*x3|\\verb| |\\verb|+|\\verb| |\\verb|5,|\\verb| |\\verb|S_3:|\\verb| |\\verb|True|$"
      ],
      "text/plain": [
       "'Symmetric 3*x1*x2*x3 + x1*x2 + x1*x3 + x2*x3 + 5, S_3: True'"
      ]
     },
     "metadata": {},
     "output_type": "display_data"
    },
    {
     "data": {
      "text/html": [
       "<html>\\(\\displaystyle \\verb|Symmetric|\\verb| |\\verb|x1^2*x2|\\verb| |\\verb|+|\\verb| |\\verb|x2^2*x3|\\verb| |\\verb|+|\\verb| |\\verb|x1*x3^2,|\\verb| |\\verb|S_3:|\\verb| |\\verb|False|\\)</html>"
      ],
      "text/latex": [
       "$\\displaystyle \\verb|Symmetric|\\verb| |\\verb|x1^2*x2|\\verb| |\\verb|+|\\verb| |\\verb|x2^2*x3|\\verb| |\\verb|+|\\verb| |\\verb|x1*x3^2,|\\verb| |\\verb|S_3:|\\verb| |\\verb|False|$"
      ],
      "text/plain": [
       "'Symmetric x1^2*x2 + x2^2*x3 + x1*x3^2, S_3: False'"
      ]
     },
     "metadata": {},
     "output_type": "display_data"
    },
    {
     "data": {
      "text/html": [
       "<html>\\(\\displaystyle \\verb|Symmetric|\\verb| |\\verb|3*x1*x2*x3|\\verb| |\\verb|+|\\verb| |\\verb|x1*x2|\\verb| |\\verb|+|\\verb| |\\verb|x1*x3|\\verb| |\\verb|+|\\verb| |\\verb|x2*x3|\\verb| |\\verb|+|\\verb| |\\verb|5,|\\verb| |\\verb|S_4:|\\verb| |\\verb|False|\\)</html>"
      ],
      "text/latex": [
       "$\\displaystyle \\verb|Symmetric|\\verb| |\\verb|3*x1*x2*x3|\\verb| |\\verb|+|\\verb| |\\verb|x1*x2|\\verb| |\\verb|+|\\verb| |\\verb|x1*x3|\\verb| |\\verb|+|\\verb| |\\verb|x2*x3|\\verb| |\\verb|+|\\verb| |\\verb|5,|\\verb| |\\verb|S_4:|\\verb| |\\verb|False|$"
      ],
      "text/plain": [
       "'Symmetric 3*x1*x2*x3 + x1*x2 + x1*x3 + x2*x3 + 5, S_4: False'"
      ]
     },
     "metadata": {},
     "output_type": "display_data"
    },
    {
     "data": {
      "text/html": [
       "<html>\\(\\displaystyle \\verb|Symmetric|\\verb| |\\verb|x1^2*x2|\\verb| |\\verb|+|\\verb| |\\verb|x2^2*x3|\\verb| |\\verb|+|\\verb| |\\verb|x1*x3^2,|\\verb| |\\verb|S_4:|\\verb| |\\verb|False|\\)</html>"
      ],
      "text/latex": [
       "$\\displaystyle \\verb|Symmetric|\\verb| |\\verb|x1^2*x2|\\verb| |\\verb|+|\\verb| |\\verb|x2^2*x3|\\verb| |\\verb|+|\\verb| |\\verb|x1*x3^2,|\\verb| |\\verb|S_4:|\\verb| |\\verb|False|$"
      ],
      "text/plain": [
       "'Symmetric x1^2*x2 + x2^2*x3 + x1*x3^2, S_4: False'"
      ]
     },
     "metadata": {},
     "output_type": "display_data"
    }
   ],
   "source": [
    "%display latex\n",
    "\n",
    "# p. 6\n",
    "# Example 1.5. Which of the following are symmetric polynomials in \n",
    "\n",
    "def is_symmetric(R, f, Sn) -> bool:\n",
    "    for tau in Sn:\n",
    "        if f(*tau(R.gens())) != f:\n",
    "            return False\n",
    "    \n",
    "    return True\n",
    "\n",
    "R.<x1, x2, x3> = PolynomialRing(ZZ)\n",
    "\n",
    "f = 3*x1*x2*x3 + x1*x2 + x2*x3 + x1*x3 + 5\n",
    "g = x1^2 * x2 + x2^2 * x3 + x1 * x3^2\n",
    "\n",
    "show(f'Symmetric {f}, S_3: {is_symmetric(R, f, SymmetricGroup(3))}')\n",
    "show(f'Symmetric {g}, S_3: {is_symmetric(R, g, SymmetricGroup(3))}')\n",
    "\n",
    "R.<x1, x2, x3, x4> = PolynomialRing(ZZ)\n",
    "\n",
    "f = 3*x1*x2*x3 + x1*x2 + x2*x3 + x1*x3 + 5\n",
    "g = x1^2 * x2 + x2^2 * x3 + x1 * x3^2\n",
    "\n",
    "show(f'Symmetric {f}, S_4: {is_symmetric(R, f, SymmetricGroup(4))}')\n",
    "show(f'Symmetric {g}, S_4: {is_symmetric(R, g, SymmetricGroup(4))}')"
   ]
  },
  {
   "cell_type": "code",
   "execution_count": 7,
   "id": "32760d02",
   "metadata": {
    "scrolled": true
   },
   "outputs": [
    {
     "data": {
      "text/html": [
       "<html>\\(\\displaystyle x_{1}^{3} x_{2} + x_{1} x_{2}^{3} + x_{1}^{3} x_{3} + x_{2}^{3} x_{3} + x_{1} x_{3}^{3} + x_{2} x_{3}^{3}\\)</html>"
      ],
      "text/latex": [
       "$\\displaystyle x_{1}^{3} x_{2} + x_{1} x_{2}^{3} + x_{1}^{3} x_{3} + x_{2}^{3} x_{3} + x_{1} x_{3}^{3} + x_{2} x_{3}^{3}$"
      ],
      "text/plain": [
       "x1^3*x2 + x1*x2^3 + x1^3*x3 + x2^3*x3 + x1*x3^3 + x2*x3^3"
      ]
     },
     "metadata": {},
     "output_type": "display_data"
    },
    {
     "data": {
      "text/html": [
       "<html>\\(\\displaystyle 6 x_{1}^{2} x_{2}^{2} x_{3} + 6 x_{1}^{2} x_{2} x_{3}^{2} + 6 x_{1} x_{2}^{2} x_{3}^{2}\\)</html>"
      ],
      "text/latex": [
       "$\\displaystyle 6 x_{1}^{2} x_{2}^{2} x_{3} + 6 x_{1}^{2} x_{2} x_{3}^{2} + 6 x_{1} x_{2}^{2} x_{3}^{2}$"
      ],
      "text/plain": [
       "6*x1^2*x2^2*x3 + 6*x1^2*x2*x3^2 + 6*x1*x2^2*x3^2"
      ]
     },
     "metadata": {},
     "output_type": "display_data"
    },
    {
     "name": "stdout",
     "output_type": "stream",
     "text": [
      "\n"
     ]
    },
    {
     "data": {
      "text/html": [
       "<html>\\(\\displaystyle x_{1}^{3} x_{2} + x_{1} x_{2}^{3} + x_{1}^{3} x_{3} + x_{2}^{3} x_{3} + x_{1} x_{3}^{3} + x_{2} x_{3}^{3}\\)</html>"
      ],
      "text/latex": [
       "$\\displaystyle x_{1}^{3} x_{2} + x_{1} x_{2}^{3} + x_{1}^{3} x_{3} + x_{2}^{3} x_{3} + x_{1} x_{3}^{3} + x_{2} x_{3}^{3}$"
      ],
      "text/plain": [
       "x1^3*x2 + x1*x2^3 + x1^3*x3 + x2^3*x3 + x1*x3^3 + x2*x3^3"
      ]
     },
     "metadata": {},
     "output_type": "display_data"
    },
    {
     "data": {
      "text/html": [
       "<html>\\(\\displaystyle 3 x_{1}^{2} x_{2}^{2} x_{3} + 3 x_{1}^{2} x_{2} x_{3}^{2} + 3 x_{1} x_{2}^{2} x_{3}^{2}\\)</html>"
      ],
      "text/latex": [
       "$\\displaystyle 3 x_{1}^{2} x_{2}^{2} x_{3} + 3 x_{1}^{2} x_{2} x_{3}^{2} + 3 x_{1} x_{2}^{2} x_{3}^{2}$"
      ],
      "text/plain": [
       "3*x1^2*x2^2*x3 + 3*x1^2*x2*x3^2 + 3*x1*x2^2*x3^2"
      ]
     },
     "metadata": {},
     "output_type": "display_data"
    }
   ],
   "source": [
    "%display latex\n",
    "\n",
    "# p. 7\n",
    "# Example 1.8. Find a symmetric polynomial f ∈ Λ(X3 ) that includes\n",
    "\n",
    "def Sym(R, f, Sn):\n",
    "    sym = 0\n",
    "    for tau in Sn:\n",
    "        sym += f(*tau(R.gens()))\n",
    "    \n",
    "    return sym\n",
    "\n",
    "# Take distinct images\n",
    "def SymStar(R, f, Sn):\n",
    "    monomials = { f(*tau(R.gens())) for tau in Sn }\n",
    "\n",
    "    return sum(monomials)\n",
    "\n",
    "R.<x1, x2, x3> = PolynomialRing(ZZ)\n",
    "\n",
    "show(Sym(R, x1^3 * x2, SymmetricGroup(3)))\n",
    "show(Sym(R, 3 * x1^2 * x2 * x3^2, SymmetricGroup(3)))\n",
    "\n",
    "print()\n",
    "\n",
    "show(SymStar(R, x1^3 * x2, SymmetricGroup(3)))\n",
    "show(SymStar(R, 3 * x1^2 * x2 * x3^2, SymmetricGroup(3)))"
   ]
  },
  {
   "cell_type": "code",
   "execution_count": 26,
   "id": "6f3a1e6f",
   "metadata": {},
   "outputs": [
    {
     "data": {
      "text/html": [
       "<html>\\(\\displaystyle x_{1}^{2} x_{2} + x_{1} x_{2}^{2}\\)</html>"
      ],
      "text/latex": [
       "$\\displaystyle x_{1}^{2} x_{2} + x_{1} x_{2}^{2}$"
      ],
      "text/plain": [
       "x1^2*x2 + x1*x2^2"
      ]
     },
     "metadata": {},
     "output_type": "display_data"
    },
    {
     "data": {
      "text/html": [
       "<html>\\(\\displaystyle x_{1}^{2} x_{2} + x_{1} x_{2}^{2} + x_{1}^{2} x_{3} + x_{2}^{2} x_{3} + x_{1} x_{3}^{2} + x_{2} x_{3}^{2}\\)</html>"
      ],
      "text/latex": [
       "$\\displaystyle x_{1}^{2} x_{2} + x_{1} x_{2}^{2} + x_{1}^{2} x_{3} + x_{2}^{2} x_{3} + x_{1} x_{3}^{2} + x_{2} x_{3}^{2}$"
      ],
      "text/plain": [
       "x1^2*x2 + x1*x2^2 + x1^2*x3 + x2^2*x3 + x1*x3^2 + x2*x3^2"
      ]
     },
     "metadata": {},
     "output_type": "display_data"
    },
    {
     "data": {
      "text/html": [
       "<html>\\(\\displaystyle x_{1}^{3} x_{2}^{3} x_{3} x_{4} + x_{1}^{3} x_{2} x_{3}^{3} x_{4} + x_{1} x_{2}^{3} x_{3}^{3} x_{4} + x_{1}^{3} x_{2} x_{3} x_{4}^{3} + x_{1} x_{2}^{3} x_{3} x_{4}^{3} + x_{1} x_{2} x_{3}^{3} x_{4}^{3}\\)</html>"
      ],
      "text/latex": [
       "$\\displaystyle x_{1}^{3} x_{2}^{3} x_{3} x_{4} + x_{1}^{3} x_{2} x_{3}^{3} x_{4} + x_{1} x_{2}^{3} x_{3}^{3} x_{4} + x_{1}^{3} x_{2} x_{3} x_{4}^{3} + x_{1} x_{2}^{3} x_{3} x_{4}^{3} + x_{1} x_{2} x_{3}^{3} x_{4}^{3}$"
      ],
      "text/plain": [
       "x1^3*x2^3*x3*x4 + x1^3*x2*x3^3*x4 + x1*x2^3*x3^3*x4 + x1^3*x2*x3*x4^3 + x1*x2^3*x3*x4^3 + x1*x2*x3^3*x4^3"
      ]
     },
     "metadata": {},
     "output_type": "display_data"
    }
   ],
   "source": [
    "reset()\n",
    "\n",
    "%display latex\n",
    "\n",
    "# p. 8\n",
    "# Example 1.10. Compute the four monomial symmetric polynomials\n",
    "\n",
    "# Take distinct images\n",
    "def SymStar(R, f, Sn):\n",
    "    monomials = { f(*tau(R.gens())) for tau in Sn }\n",
    "\n",
    "    return sum(monomials)\n",
    "\n",
    "R.<x1, x2> = PolynomialRing(ZZ)\n",
    "\n",
    "m21 = x1^2 * x2\n",
    "\n",
    "show(SymStar(R, m21, SymmetricGroup(2)))\n",
    "\n",
    "R.<x1, x2, x3> = PolynomialRing(ZZ)\n",
    "\n",
    "m21 = x1^2 * x2\n",
    "\n",
    "show(SymStar(R, m21, SymmetricGroup(3)))\n",
    "\n",
    "R.<x1, x2, x3, x4> = PolynomialRing(ZZ)\n",
    "\n",
    "m3311 = x1^3 * x2^3 * x3 * x4\n",
    "\n",
    "show(SymStar(R, m3311, SymmetricGroup(4)))\n",
    "\n",
    "# It is clear that m_{3311}(X_3) is 0"
   ]
  }
 ],
 "metadata": {
  "kernelspec": {
   "display_name": "SageMath 10.0",
   "language": "sage",
   "name": "sagemath"
  },
  "language_info": {
   "codemirror_mode": {
    "name": "ipython",
    "version": 3
   },
   "file_extension": ".py",
   "mimetype": "text/x-python",
   "name": "python",
   "nbconvert_exporter": "python",
   "pygments_lexer": "ipython3",
   "version": "3.11.3"
  }
 },
 "nbformat": 4,
 "nbformat_minor": 5
}
